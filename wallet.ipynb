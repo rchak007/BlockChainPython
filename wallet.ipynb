{
 "cells": [
  {
   "cell_type": "code",
   "execution_count": 17,
   "id": "6229db5b-5d89-44cb-b3ed-970ef91dc521",
   "metadata": {},
   "outputs": [],
   "source": [
    "import os\n",
    "from web3 import Web3\n",
    "from dotenv import load_dotenv\n",
    "from web3.middleware import geth_poa_middleware\n",
    "from eth_account import Account\n",
    "from bit import wif_to_key"
   ]
  },
  {
   "cell_type": "code",
   "execution_count": 3,
   "id": "cbecf472-a6d6-4fdf-9cfa-b1a1c3ff56fb",
   "metadata": {},
   "outputs": [],
   "source": [
    "from constants import *"
   ]
  },
  {
   "cell_type": "code",
   "execution_count": 4,
   "id": "abb01bfa-f405-4e7b-87ba-036900dd8a15",
   "metadata": {},
   "outputs": [
    {
     "data": {
      "text/plain": [
       "True"
      ]
     },
     "execution_count": 4,
     "metadata": {},
     "output_type": "execute_result"
    }
   ],
   "source": [
    "# Load and set environment variables\n",
    "load_dotenv()"
   ]
  },
  {
   "cell_type": "markdown",
   "id": "6f99b748-e154-4a6b-8689-1edf717ac849",
   "metadata": {},
   "source": [
    "### We will use mnemonic to get our addresses for transaction and connect on Ganache"
   ]
  },
  {
   "cell_type": "code",
   "execution_count": 5,
   "id": "918743ed-918e-4360-a161-11f3b03d0bbd",
   "metadata": {},
   "outputs": [],
   "source": [
    "mnemonic=os.getenv(\"mnemonic\")"
   ]
  },
  {
   "cell_type": "markdown",
   "id": "86228c59-a483-4c4d-9499-198eee066b2e",
   "metadata": {},
   "source": [
    "### We will be connecting to Ganache which will run on port \"http://127.0.0.1:8545\""
   ]
  },
  {
   "cell_type": "code",
   "execution_count": 6,
   "id": "24e90fa7-48e4-4726-a96f-bd4302f04646",
   "metadata": {},
   "outputs": [],
   "source": [
    "w3 = Web3(Web3.HTTPProvider(\"http://127.0.0.1:8545\"))\n",
    "w3.middleware_onion.inject(geth_poa_middleware, layer=0)\n",
    "\n",
    "private_key = os.getenv(\"PRIVATE_KEY2\")"
   ]
  },
  {
   "cell_type": "code",
   "execution_count": 7,
   "id": "93b44aef-2785-4322-bd7a-e9ec53f9736a",
   "metadata": {},
   "outputs": [],
   "source": [
    "#private_key"
   ]
  },
  {
   "cell_type": "code",
   "execution_count": 8,
   "id": "089de723-5202-4483-a3cd-4f0020726acc",
   "metadata": {},
   "outputs": [],
   "source": [
    "account_one = Account.from_key(private_key)"
   ]
  },
  {
   "cell_type": "code",
   "execution_count": 9,
   "id": "ac5c7344-f26d-41b7-85dd-942aeb35597a",
   "metadata": {},
   "outputs": [
    {
     "data": {
      "text/plain": [
       "<eth_account.signers.local.LocalAccount at 0x109eef3a0>"
      ]
     },
     "execution_count": 9,
     "metadata": {},
     "output_type": "execute_result"
    }
   ],
   "source": [
    "account_one"
   ]
  },
  {
   "cell_type": "markdown",
   "id": "44c457bc-38a9-4fa5-8e50-54f20f861614",
   "metadata": {},
   "source": [
    "#### flag to enable unaudited HD Wallet features. only then we can get addresses from Mnemonic"
   ]
  },
  {
   "cell_type": "code",
   "execution_count": 10,
   "id": "eec91fe6-996a-49c9-a7e1-ec8af66631bb",
   "metadata": {},
   "outputs": [],
   "source": [
    "Account.enable_unaudited_hdwallet_features()"
   ]
  },
  {
   "cell_type": "markdown",
   "id": "ef807f74-d513-4e7a-a88c-94e7514f2ce3",
   "metadata": {},
   "source": [
    "#### Get first 2 Ethereum addresses from Mnemonic; Path with 60 is ETH addresses"
   ]
  },
  {
   "cell_type": "code",
   "execution_count": 11,
   "id": "47aa8319-ec2d-4a92-bf1b-14d479814363",
   "metadata": {},
   "outputs": [],
   "source": [
    "account_mnem1 = Account.from_mnemonic(mnemonic, account_path=\"m/44'/60'/0'/0/0\")"
   ]
  },
  {
   "cell_type": "code",
   "execution_count": 12,
   "id": "2f0a47a8-ea0f-42e8-9b31-522441d6430f",
   "metadata": {},
   "outputs": [],
   "source": [
    "account_mnem2 = Account.from_mnemonic(mnemonic, account_path=\"m/44'/60'/0'/0/1\")"
   ]
  },
  {
   "cell_type": "code",
   "execution_count": 13,
   "id": "9579a640-a93b-4c8c-8a26-2db4c37685a5",
   "metadata": {},
   "outputs": [],
   "source": [
    "account_mnem1_btc = Account.from_mnemonic(mnemonic, account_path=\"m/44'/1'/0'/0/0\")"
   ]
  },
  {
   "cell_type": "code",
   "execution_count": 14,
   "id": "7b6c1041-6e73-48ea-9941-01afbb7c91b1",
   "metadata": {},
   "outputs": [
    {
     "data": {
      "text/plain": [
       "'0x15D5eC9D3F67A42f1D56E205a79ae6931F50A431'"
      ]
     },
     "execution_count": 14,
     "metadata": {},
     "output_type": "execute_result"
    }
   ],
   "source": [
    "account_mnem1.address"
   ]
  },
  {
   "cell_type": "code",
   "execution_count": 15,
   "id": "8c0d2596-0c2e-4be5-9886-1f21a1b264f6",
   "metadata": {},
   "outputs": [
    {
     "data": {
      "text/plain": [
       "'0xAB4A0C2ed939f32DE20E7118E23fddaF9739aCe0'"
      ]
     },
     "execution_count": 15,
     "metadata": {},
     "output_type": "execute_result"
    }
   ],
   "source": [
    "account_mnem2.address"
   ]
  },
  {
   "cell_type": "code",
   "execution_count": 16,
   "id": "e993fd6d-1cc4-4920-a6c5-85788b74bc3d",
   "metadata": {},
   "outputs": [
    {
     "data": {
      "text/plain": [
       "'0x41f64Fa483B847a910f8455157B4d5778F158293'"
      ]
     },
     "execution_count": 16,
     "metadata": {},
     "output_type": "execute_result"
    }
   ],
   "source": [
    "account_mnem1_btc.address"
   ]
  },
  {
   "cell_type": "code",
   "execution_count": 56,
   "id": "88ac9b83-7d8c-40bb-b2a9-016f3dd451b9",
   "metadata": {},
   "outputs": [],
   "source": [
    "def create_raw_tx(account, recipient, amount):\n",
    "    gasEstimate = w3.eth.estimateGas(\n",
    "        {\"from\": account.address, \"to\": recipient, \"value\": amount}\n",
    "    )\n",
    "    return {\n",
    "        \"from\": account.address,\n",
    "        \"to\": recipient,\n",
    "        \"value\": amount,\n",
    "        \"gasPrice\": w3.eth.gasPrice,\n",
    "        \"gas\": gasEstimate,\n",
    "        \"nonce\": w3.eth.getTransactionCount(account.address),\n",
    "    }"
   ]
  },
  {
   "cell_type": "code",
   "execution_count": 57,
   "id": "9c505c25-5a66-440e-a8e3-40eafc4e087e",
   "metadata": {},
   "outputs": [],
   "source": [
    "def send_tx(account, recipient, amount):\n",
    "    tx = create_raw_tx(account, recipient, amount)\n",
    "    signed_tx = account.sign_transaction(tx)\n",
    "    result = w3.eth.sendRawTransaction(signed_tx.rawTransaction)\n",
    "    print(result.hex())\n",
    "    return result.hex()"
   ]
  },
  {
   "cell_type": "markdown",
   "id": "2759b22d-1cfa-45a2-be05-d948beea9c34",
   "metadata": {},
   "source": [
    "### Send .05 Eth from account 2 to account 1"
   ]
  },
  {
   "cell_type": "code",
   "execution_count": 60,
   "id": "a774d9cb-5d10-4c89-83f0-bf8c9b9045b4",
   "metadata": {},
   "outputs": [
    {
     "name": "stdout",
     "output_type": "stream",
     "text": [
      "0x158a10baab4a5a0918cd79af4c4f38bf85815d05366f2f827e701779863fd878\n"
     ]
    }
   ],
   "source": [
    "hex_result = send_tx(account_mnem2, account_mnem1.address, 500000000000000000)"
   ]
  },
  {
   "cell_type": "code",
   "execution_count": 21,
   "id": "6c608447-b8c5-45db-abe9-32cde286e62d",
   "metadata": {},
   "outputs": [],
   "source": [
    "key1 = wif_to_key(\"cQGEtMyn7TTLGnReRSSXg9NTFsE8j6cWf8hnEU1PrZbtf5q54LHD\")"
   ]
  },
  {
   "cell_type": "code",
   "execution_count": 22,
   "id": "49ffe887-d501-4ae4-a8f8-68860f5cd4f3",
   "metadata": {},
   "outputs": [
    {
     "data": {
      "text/plain": [
       "<PrivateKeyTestnet: n3wSv5HeQ3htyysoKuf1nQXnxRcxVeT5Qt>"
      ]
     },
     "execution_count": 22,
     "metadata": {},
     "output_type": "execute_result"
    }
   ],
   "source": [
    "key1"
   ]
  },
  {
   "cell_type": "code",
   "execution_count": 23,
   "id": "3c311431-8d11-433f-9308-5dce3e1428b0",
   "metadata": {},
   "outputs": [],
   "source": [
    "key2 = wif_to_key(\"cQccrB9ftR5k62PWhGRroRKsJxC5yvhJ3nMkmmrYN7xcybADTnXB\")"
   ]
  },
  {
   "cell_type": "code",
   "execution_count": 24,
   "id": "ce66d6d9-8a75-4adf-9ca5-84398ac76527",
   "metadata": {},
   "outputs": [
    {
     "data": {
      "text/plain": [
       "<PrivateKeyTestnet: msjBhgXeXbPU2XX1JU64s8LRPGUG5M9hMA>"
      ]
     },
     "execution_count": 24,
     "metadata": {},
     "output_type": "execute_result"
    }
   ],
   "source": [
    "key2"
   ]
  },
  {
   "cell_type": "code",
   "execution_count": 25,
   "id": "16d2d1b9-a8f3-4a6e-905b-bbed4fe502f9",
   "metadata": {},
   "outputs": [
    {
     "data": {
      "text/plain": [
       "'0.00061852'"
      ]
     },
     "execution_count": 25,
     "metadata": {},
     "output_type": "execute_result"
    }
   ],
   "source": [
    "key1.get_balance(\"btc\")"
   ]
  },
  {
   "cell_type": "code",
   "execution_count": 26,
   "id": "ba9a336a-62bf-4415-8ab2-147df8fa5ebb",
   "metadata": {},
   "outputs": [
    {
     "data": {
      "text/plain": [
       "'0.0002'"
      ]
     },
     "execution_count": 26,
     "metadata": {},
     "output_type": "execute_result"
    }
   ],
   "source": [
    "key2.get_balance(\"btc\")"
   ]
  },
  {
   "cell_type": "code",
   "execution_count": 41,
   "id": "9431b9b0-39dc-477e-be6e-6c4eb219ef4a",
   "metadata": {},
   "outputs": [],
   "source": [
    "#outputs = []"
   ]
  },
  {
   "cell_type": "code",
   "execution_count": 42,
   "id": "3d917713-bfe0-4328-836e-bb986a610b51",
   "metadata": {},
   "outputs": [],
   "source": [
    "#outputs.append((\"cQccrB9ftR5k62PWhGRroRKsJxC5yvhJ3nMkmmrYN7xcybADTnXB\", 0.0001, \"btc\"))"
   ]
  },
  {
   "cell_type": "code",
   "execution_count": 43,
   "id": "1bd94aa2-90b7-4b76-b90d-70df9b76c2de",
   "metadata": {},
   "outputs": [],
   "source": [
    "#print(key1.send(outputs))"
   ]
  },
  {
   "cell_type": "code",
   "execution_count": 39,
   "id": "48cd6754-bfa6-4ea5-8287-ce27c33e398f",
   "metadata": {},
   "outputs": [
    {
     "name": "stdout",
     "output_type": "stream",
     "text": [
      "152f288a63294ecf19113312a0d7f251f9f1511f044b795a049f08b05e3145c1\n"
     ]
    }
   ],
   "source": [
    "# replace with your private key\n",
    "key = wif_to_key(\"cQGEtMyn7TTLGnReRSSXg9NTFsE8j6cWf8hnEU1PrZbtf5q54LHD\")\n",
    "\n",
    "# replace with different addresses\n",
    "addresses = [\"msjBhgXeXbPU2XX1JU64s8LRPGUG5M9hMA\", \"mkfWrXLBjPVKoBoVqVjihoEhSRXsu5JcAD\"]\n",
    "\n",
    "outputs = []\n",
    "\n",
    "for address in addresses:\n",
    "    outputs.append((address, 0.0001, \"btc\"))\n",
    "\n",
    "print(key.send(outputs))"
   ]
  },
  {
   "cell_type": "code",
   "execution_count": 40,
   "id": "b46ea19c-82ff-4eb4-bcf6-33cf9eb4c686",
   "metadata": {},
   "outputs": [
    {
     "data": {
      "text/plain": [
       "'0.0003'"
      ]
     },
     "execution_count": 40,
     "metadata": {},
     "output_type": "execute_result"
    }
   ],
   "source": [
    "key2.get_balance(\"btc\")"
   ]
  },
  {
   "cell_type": "code",
   "execution_count": null,
   "id": "16ae5eea-66a7-4bfe-81db-7780f3b83376",
   "metadata": {},
   "outputs": [],
   "source": []
  }
 ],
 "metadata": {
  "kernelspec": {
   "display_name": "blockchain",
   "language": "python",
   "name": "blockchain"
  },
  "language_info": {
   "codemirror_mode": {
    "name": "ipython",
    "version": 3
   },
   "file_extension": ".py",
   "mimetype": "text/x-python",
   "name": "python",
   "nbconvert_exporter": "python",
   "pygments_lexer": "ipython3",
   "version": "3.8.8"
  }
 },
 "nbformat": 4,
 "nbformat_minor": 5
}
