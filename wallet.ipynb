{
 "cells": [
  {
   "cell_type": "code",
   "execution_count": 29,
   "id": "6229db5b-5d89-44cb-b3ed-970ef91dc521",
   "metadata": {},
   "outputs": [],
   "source": [
    "import os\n",
    "from web3 import Web3\n",
    "from dotenv import load_dotenv\n",
    "from web3.middleware import geth_poa_middleware\n",
    "from eth_account import Account"
   ]
  },
  {
   "cell_type": "code",
   "execution_count": 30,
   "id": "cbecf472-a6d6-4fdf-9cfa-b1a1c3ff56fb",
   "metadata": {},
   "outputs": [],
   "source": [
    "from constants import *"
   ]
  },
  {
   "cell_type": "code",
   "execution_count": 31,
   "id": "abb01bfa-f405-4e7b-87ba-036900dd8a15",
   "metadata": {},
   "outputs": [
    {
     "data": {
      "text/plain": [
       "True"
      ]
     },
     "execution_count": 31,
     "metadata": {},
     "output_type": "execute_result"
    }
   ],
   "source": [
    "# Load and set environment variables\n",
    "load_dotenv()"
   ]
  },
  {
   "cell_type": "markdown",
   "id": "6f99b748-e154-4a6b-8689-1edf717ac849",
   "metadata": {},
   "source": [
    "### We will use mnemonic to get our addresses for transaction and connect on Ganache"
   ]
  },
  {
   "cell_type": "code",
   "execution_count": 32,
   "id": "918743ed-918e-4360-a161-11f3b03d0bbd",
   "metadata": {},
   "outputs": [],
   "source": [
    "mnemonic=os.getenv(\"mnemonic\")"
   ]
  },
  {
   "cell_type": "markdown",
   "id": "86228c59-a483-4c4d-9499-198eee066b2e",
   "metadata": {},
   "source": [
    "### We will be connecting to Ganache which will run on port \"http://127.0.0.1:8545\""
   ]
  },
  {
   "cell_type": "code",
   "execution_count": 37,
   "id": "24e90fa7-48e4-4726-a96f-bd4302f04646",
   "metadata": {},
   "outputs": [],
   "source": [
    "w3 = Web3(Web3.HTTPProvider(\"http://127.0.0.1:8545\"))\n",
    "w3.middleware_onion.inject(geth_poa_middleware, layer=0)\n",
    "\n",
    "private_key = os.getenv(\"PRIVATE_KEY2\")"
   ]
  },
  {
   "cell_type": "code",
   "execution_count": 55,
   "id": "93b44aef-2785-4322-bd7a-e9ec53f9736a",
   "metadata": {},
   "outputs": [],
   "source": [
    "#private_key"
   ]
  },
  {
   "cell_type": "code",
   "execution_count": 39,
   "id": "089de723-5202-4483-a3cd-4f0020726acc",
   "metadata": {},
   "outputs": [],
   "source": [
    "account_one = Account.from_key(private_key)"
   ]
  },
  {
   "cell_type": "code",
   "execution_count": 40,
   "id": "ac5c7344-f26d-41b7-85dd-942aeb35597a",
   "metadata": {},
   "outputs": [
    {
     "data": {
      "text/plain": [
       "<eth_account.signers.local.LocalAccount at 0x1098cd790>"
      ]
     },
     "execution_count": 40,
     "metadata": {},
     "output_type": "execute_result"
    }
   ],
   "source": [
    "account_one"
   ]
  },
  {
   "cell_type": "markdown",
   "id": "44c457bc-38a9-4fa5-8e50-54f20f861614",
   "metadata": {},
   "source": [
    "#### flag to enable unaudited HD Wallet features. only then we can get addresses from Mnemonic"
   ]
  },
  {
   "cell_type": "code",
   "execution_count": 43,
   "id": "eec91fe6-996a-49c9-a7e1-ec8af66631bb",
   "metadata": {},
   "outputs": [],
   "source": [
    "Account.enable_unaudited_hdwallet_features()"
   ]
  },
  {
   "cell_type": "markdown",
   "id": "ef807f74-d513-4e7a-a88c-94e7514f2ce3",
   "metadata": {},
   "source": [
    "#### Get first 2 Ethereum addresses from Mnemonic; Path with 60 is ETH addresses"
   ]
  },
  {
   "cell_type": "code",
   "execution_count": 51,
   "id": "47aa8319-ec2d-4a92-bf1b-14d479814363",
   "metadata": {},
   "outputs": [],
   "source": [
    "account_mnem1 = Account.from_mnemonic(mnemonic, account_path=\"m/44'/60'/0'/0/0\")"
   ]
  },
  {
   "cell_type": "code",
   "execution_count": 52,
   "id": "2f0a47a8-ea0f-42e8-9b31-522441d6430f",
   "metadata": {},
   "outputs": [],
   "source": [
    "account_mnem2 = Account.from_mnemonic(mnemonic, account_path=\"m/44'/60'/0'/0/1\")"
   ]
  },
  {
   "cell_type": "code",
   "execution_count": 53,
   "id": "7b6c1041-6e73-48ea-9941-01afbb7c91b1",
   "metadata": {},
   "outputs": [
    {
     "data": {
      "text/plain": [
       "'0x15D5eC9D3F67A42f1D56E205a79ae6931F50A431'"
      ]
     },
     "execution_count": 53,
     "metadata": {},
     "output_type": "execute_result"
    }
   ],
   "source": [
    "account_mnem1.address"
   ]
  },
  {
   "cell_type": "code",
   "execution_count": 54,
   "id": "8c0d2596-0c2e-4be5-9886-1f21a1b264f6",
   "metadata": {},
   "outputs": [
    {
     "data": {
      "text/plain": [
       "'0xAB4A0C2ed939f32DE20E7118E23fddaF9739aCe0'"
      ]
     },
     "execution_count": 54,
     "metadata": {},
     "output_type": "execute_result"
    }
   ],
   "source": [
    "account_mnem2.address"
   ]
  },
  {
   "cell_type": "code",
   "execution_count": 56,
   "id": "88ac9b83-7d8c-40bb-b2a9-016f3dd451b9",
   "metadata": {},
   "outputs": [],
   "source": [
    "def create_raw_tx(account, recipient, amount):\n",
    "    gasEstimate = w3.eth.estimateGas(\n",
    "        {\"from\": account.address, \"to\": recipient, \"value\": amount}\n",
    "    )\n",
    "    return {\n",
    "        \"from\": account.address,\n",
    "        \"to\": recipient,\n",
    "        \"value\": amount,\n",
    "        \"gasPrice\": w3.eth.gasPrice,\n",
    "        \"gas\": gasEstimate,\n",
    "        \"nonce\": w3.eth.getTransactionCount(account.address),\n",
    "    }"
   ]
  },
  {
   "cell_type": "code",
   "execution_count": 57,
   "id": "9c505c25-5a66-440e-a8e3-40eafc4e087e",
   "metadata": {},
   "outputs": [],
   "source": [
    "def send_tx(account, recipient, amount):\n",
    "    tx = create_raw_tx(account, recipient, amount)\n",
    "    signed_tx = account.sign_transaction(tx)\n",
    "    result = w3.eth.sendRawTransaction(signed_tx.rawTransaction)\n",
    "    print(result.hex())\n",
    "    return result.hex()"
   ]
  },
  {
   "cell_type": "markdown",
   "id": "2759b22d-1cfa-45a2-be05-d948beea9c34",
   "metadata": {},
   "source": [
    "### Send .05 Eth from account 2 to account 1"
   ]
  },
  {
   "cell_type": "code",
   "execution_count": 60,
   "id": "a774d9cb-5d10-4c89-83f0-bf8c9b9045b4",
   "metadata": {},
   "outputs": [
    {
     "name": "stdout",
     "output_type": "stream",
     "text": [
      "0x158a10baab4a5a0918cd79af4c4f38bf85815d05366f2f827e701779863fd878\n"
     ]
    }
   ],
   "source": [
    "hex_result = send_tx(account_mnem2, account_mnem1.address, 500000000000000000)"
   ]
  },
  {
   "cell_type": "code",
   "execution_count": null,
   "id": "6c608447-b8c5-45db-abe9-32cde286e62d",
   "metadata": {},
   "outputs": [],
   "source": []
  }
 ],
 "metadata": {
  "kernelspec": {
   "display_name": "blockchain",
   "language": "python",
   "name": "blockchain"
  },
  "language_info": {
   "codemirror_mode": {
    "name": "ipython",
    "version": 3
   },
   "file_extension": ".py",
   "mimetype": "text/x-python",
   "name": "python",
   "nbconvert_exporter": "python",
   "pygments_lexer": "ipython3",
   "version": "3.8.8"
  }
 },
 "nbformat": 4,
 "nbformat_minor": 5
}
