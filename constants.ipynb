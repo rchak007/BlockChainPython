{
 "cells": [
  {
   "cell_type": "code",
   "execution_count": 1,
   "id": "193b164e-067c-476e-8228-0f615d336070",
   "metadata": {},
   "outputs": [],
   "source": [
    "BTC =  'btc'"
   ]
  },
  {
   "cell_type": "code",
   "execution_count": 2,
   "id": "1cad8e21-fdd1-49e7-b6ad-01fe497f8d51",
   "metadata": {},
   "outputs": [],
   "source": [
    "ETH = 'eth'"
   ]
  },
  {
   "cell_type": "code",
   "execution_count": 3,
   "id": "53ae488f-9258-4576-b17d-601beccc59ad",
   "metadata": {},
   "outputs": [],
   "source": [
    "BTCTEST = 'btc-test'"
   ]
  },
  {
   "cell_type": "code",
   "execution_count": null,
   "id": "148b78b7-3e8b-4de0-9175-fb178079eab8",
   "metadata": {},
   "outputs": [],
   "source": []
  }
 ],
 "metadata": {
  "kernelspec": {
   "display_name": "blockchain",
   "language": "python",
   "name": "blockchain"
  },
  "language_info": {
   "codemirror_mode": {
    "name": "ipython",
    "version": 3
   },
   "file_extension": ".py",
   "mimetype": "text/x-python",
   "name": "python",
   "nbconvert_exporter": "python",
   "pygments_lexer": "ipython3",
   "version": "3.8.8"
  }
 },
 "nbformat": 4,
 "nbformat_minor": 5
}
